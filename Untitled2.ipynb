{
 "cells": [
  {
   "cell_type": "code",
   "execution_count": 1,
   "id": "f289f89a-7ac4-4b0c-9d1a-29573055b3b6",
   "metadata": {},
   "outputs": [
    {
     "name": "stdin",
     "output_type": "stream",
     "text": [
      "Enter a word (or type 'exit' to quit):  hello\n"
     ]
    },
    {
     "name": "stdout",
     "output_type": "stream",
     "text": [
      "Sorted word: ehllo\n"
     ]
    },
    {
     "name": "stdin",
     "output_type": "stream",
     "text": [
      "Enter a word (or type 'exit' to quit):  exit\n"
     ]
    },
    {
     "name": "stdout",
     "output_type": "stream",
     "text": [
      "Goodbye!\n"
     ]
    }
   ],
   "source": [
    "def alphabet_soup(word):\n",
    "   \n",
    "    return ''.join(sorted(word))\n",
    "\n",
    "def main():\n",
    "    while True:\n",
    "     \n",
    "        user_input = input(\"Enter a word (or type 'exit' to quit): \")\n",
    "        \n",
    "        \n",
    "        if user_input.lower() == 'exit':\n",
    "            print(\"Goodbye!\")\n",
    "            break\n",
    "        \n",
    "        \n",
    "        result = alphabet_soup(user_input)\n",
    "        print(f\"Sorted word: {result}\")\n",
    "\n",
    "if __name__ == \"__main__\":\n",
    "    main()"
   ]
  },
  {
   "cell_type": "code",
   "execution_count": 3,
   "id": "4f67f90a-25c3-4ede-a8bd-dab04456ba46",
   "metadata": {},
   "outputs": [
    {
     "name": "stdin",
     "output_type": "stream",
     "text": [
      "Enter a sentence (or type 'exit' to quit):  i am angry\n"
     ]
    },
    {
     "name": "stdout",
     "output_type": "stream",
     "text": [
      "Emotified sentence: i am angry\n"
     ]
    },
    {
     "name": "stdin",
     "output_type": "stream",
     "text": [
      "Enter a sentence (or type 'exit' to quit):  i am mad\n"
     ]
    },
    {
     "name": "stdout",
     "output_type": "stream",
     "text": [
      "Emotified sentence: i am >:(\n"
     ]
    },
    {
     "name": "stdin",
     "output_type": "stream",
     "text": [
      "Enter a sentence (or type 'exit' to quit):  exit\n"
     ]
    },
    {
     "name": "stdout",
     "output_type": "stream",
     "text": [
      "Goodbye!\n"
     ]
    }
   ],
   "source": [
    "def emotify(sentence):\n",
    "  \n",
    "    emoticon_dict = {\n",
    "        \"smile\": \":)\",\n",
    "        \"grin\": \":D\",\n",
    "        \"sad\": \":((\",\n",
    "        \"mad\": \">:(\",\n",
    "    }\n",
    "    \n",
    "    \n",
    "    words = sentence.split()\n",
    "    emotified_words = [emoticon_dict.get(word.lower(), word) for word in words]\n",
    "    \n",
    "   \n",
    "    return ' '.join(emotified_words)\n",
    "\n",
    "def main():\n",
    "    while True:\n",
    "       \n",
    "        user_input = input(\"Enter a sentence (or type 'exit' to quit): \")\n",
    "        \n",
    "      \n",
    "        if user_input.lower() == 'exit':\n",
    "            print(\"Goodbye!\")\n",
    "            break\n",
    "        \n",
    "       \n",
    "        result = emotify(user_input)\n",
    "        \n",
    "       \n",
    "        print(\"Emotified sentence:\", result)\n",
    "\n",
    "if __name__ == \"__main__\":\n",
    "    main()"
   ]
  },
  {
   "cell_type": "code",
   "execution_count": 5,
   "id": "7da82ab4-74f5-4eba-889d-90f880f45f3e",
   "metadata": {},
   "outputs": [
    {
     "name": "stdin",
     "output_type": "stream",
     "text": [
      "Enter numbers separated by spaces (or type 'exit' to quit):  2 3 4 5 6\n"
     ]
    },
    {
     "name": "stdout",
     "output_type": "stream",
     "text": [
      "Output:\n",
      "First: 2\n",
      "Middle: [3, 4, 5]\n",
      "Last: 6\n"
     ]
    },
    {
     "name": "stdin",
     "output_type": "stream",
     "text": [
      "Enter numbers separated by spaces (or type 'exit' to quit):  exit\n"
     ]
    },
    {
     "name": "stdout",
     "output_type": "stream",
     "text": [
      "Goodbye!\n"
     ]
    }
   ],
   "source": [
    "def arrange_numbers(numbers):\n",
    "    if len(numbers) < 3:\n",
    "        print(\"List must have at least 3 elements.\")\n",
    "        return\n",
    "\n",
    "    first, *middle, last = numbers\n",
    "    print(\"Output:\")\n",
    "    print(f\"First: {first}\")\n",
    "    print(f\"Middle: {middle}\")\n",
    "    print(f\"Last: {last}\")\n",
    "\n",
    "def main():\n",
    "    while True:\n",
    "        try:\n",
    "           \n",
    "            input_list = input(\"Enter numbers separated by spaces (or type 'exit' to quit): \")\n",
    "            \n",
    "           \n",
    "            if input_list.lower() == 'exit':\n",
    "                print(\"Goodbye!\")\n",
    "                break\n",
    "            \n",
    "            \n",
    "            numbers = list(map(int, input_list.split()))\n",
    "\n",
    "        \n",
    "            arrange_numbers(numbers)\n",
    "        except ValueError:\n",
    "            print(\"Please enter valid integers separated by spaces.\")\n",
    "\n",
    "if __name__ == \"__main__\":\n",
    "    main()"
   ]
  },
  {
   "cell_type": "code",
   "execution_count": null,
   "id": "2907b056-6ac5-41e8-95a3-b92e1b0814a5",
   "metadata": {},
   "outputs": [],
   "source": []
  }
 ],
 "metadata": {
  "kernelspec": {
   "display_name": "Python 3 (ipykernel)",
   "language": "python",
   "name": "python3"
  },
  "language_info": {
   "codemirror_mode": {
    "name": "ipython",
    "version": 3
   },
   "file_extension": ".py",
   "mimetype": "text/x-python",
   "name": "python",
   "nbconvert_exporter": "python",
   "pygments_lexer": "ipython3",
   "version": "3.12.4"
  }
 },
 "nbformat": 4,
 "nbformat_minor": 5
}
